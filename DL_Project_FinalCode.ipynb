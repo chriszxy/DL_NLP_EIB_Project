{
 "cells": [
  {
   "cell_type": "markdown",
   "id": "legislative-province",
   "metadata": {},
   "source": [
    "# Goal"
   ]
  },
  {
   "cell_type": "markdown",
   "id": "global-twist",
   "metadata": {},
   "source": [
    "The main idea is to apply the word-to-vector and Bert tokenizer to classify the reports when we do not have the label for each document. It mainly consists of three parts. Firstly, we clean the texts and embed them into the vector space. Secondly, we create a keyword list for each cluster and embed it into the vector space. Finally, we calculate the similarity scores between every list of text vectors and the keyword vectors, and assign each document to the closest cluster."
   ]
  },
  {
   "cell_type": "markdown",
   "id": "designed-fleet",
   "metadata": {},
   "source": [
    "# Imports"
   ]
  },
  {
   "cell_type": "code",
   "execution_count": 4,
   "id": "second-model",
   "metadata": {},
   "outputs": [],
   "source": [
    "import gensim\n",
    "import gensim.downloader as gensim_api  ## for w2v\n",
    "import json   ## for data \n",
    "import math\n",
    "import matplotlib.pyplot as plt\n",
    "import nltk  ## for processing\n",
    "import numpy as np\n",
    "import pandas as pd\n",
    "import re\n",
    "import seaborn as sns\n",
    "from sklearn import metrics, manifold\n",
    "import transformers  ## for bert"
   ]
  },
  {
   "cell_type": "code",
   "execution_count": 13,
   "id": "published-retro",
   "metadata": {},
   "outputs": [
    {
     "data": {
      "text/plain": [
       "'\\nFile-level summary:\\nThis file include the following class definition:\\n1. Data Preparation class, binds all preparation work on original dataset, including reading, \\n    cleaning, and preprocessing; \\n2. Clustering class, which create three target clusters of classification. \\n3. One visualization of keywords. \\n4. Embedding class, which is our feature engineering process. \\n5. Three notes on embedding part.\\n6. Model class, include one class function, our algorithm design. \\n7. One extra note on selection of similarity. \\n'"
      ]
     },
     "execution_count": 13,
     "metadata": {},
     "output_type": "execute_result"
    }
   ],
   "source": [
    "\"\"\"\n",
    "File-level summary:\n",
    "This file include the following class definition:\n",
    "1. Data Preparation class, binds all preparation work on original dataset, including reading, \n",
    "    cleaning, and preprocessing; \n",
    "2. Clustering class, which create three target clusters of classification. \n",
    "3. One visualization of keywords. \n",
    "4. Embedding class, which is our feature engineering process. \n",
    "5. Three notes on embedding part.\n",
    "6. Model class, include one class function, our algorithm design. \n",
    "7. One extra note on selection of similarity. \n",
    "\"\"\""
   ]
  },
  {
   "cell_type": "code",
   "execution_count": 11,
   "id": "acting-check",
   "metadata": {},
   "outputs": [],
   "source": [
    "# Some global variables\n",
    "NUM_OF_TOP_N = 20 \n",
    "EMBEDDING_LENGTH = 20 \n",
    "RESHAPE_DIM = 768\n",
    "BATCH = round(1420/50)+1\n",
    "BATCH_SIZE= 50  # each time we run for 50 documents. "
   ]
  },
  {
   "cell_type": "markdown",
   "id": "great-virgin",
   "metadata": {},
   "source": [
    "# Data Preparation"
   ]
  },
  {
   "cell_type": "code",
   "execution_count": 6,
   "id": "outer-compiler",
   "metadata": {},
   "outputs": [],
   "source": [
    "class DataPreparation:\n",
    "    \"\"\"This class binds all preparation work on data, including reading, cleaning, and preprocessing. \n",
    "    Include two major class functions ReadCSV for reading data and UtilsPreprocessText for processing. \"\"\"\n",
    "    \n",
    "    def ReadCSV(self, file_name='real whole corpus.csv'):\n",
    "        \"\"\"\n",
    "        this function is for reading data from csv file, cleaning a little, and return it. \n",
    "        Parameter: file_name end with .csv, default value is our real whole corpus.csv file\n",
    "        Return: a dataframe named corpus\n",
    "        \"\"\"\n",
    "        \n",
    "        corpus = pd.read_csv(file_name, names = ['company', 'text'])\n",
    "\n",
    "        for i in range(len(corpus)):\n",
    "            if corpus.loc[i, 'text'] == ' ':\n",
    "                corpus.loc[i, 'text'] = np.nan\n",
    "\n",
    "        corpus = corpus.dropna()\n",
    "        return corpus\n",
    "    \n",
    "    \n",
    "    def UtilsPreprocessText(self, text, flg_stemm=False, flg_lemm=True, lst_stopwords=None):\n",
    "        \"\"\"\n",
    "        Preprocess a string.\n",
    "        Parameters:\n",
    "            text: string - name of column containing text\n",
    "            lst_stopwords: list - list of stopwords to remove\n",
    "            flg_stemm: bool - whether stemming is to be applied\n",
    "            flg_lemm: bool - whether lemmitisation is to be applied\n",
    "        Return:\n",
    "            cleaned text\n",
    "        \"\"\"\n",
    "        ## clean (convert to lowercase and remove punctuations and characters and then strip)\n",
    "        text = re.sub(r'[^\\w\\s]', '', str(text).lower().strip())\n",
    "\n",
    "        ## Tokenize (convert from string to list)\n",
    "        lst_text = text.split()\n",
    "\n",
    "        ## remove Stopwords\n",
    "        if lst_stopwords is not None:\n",
    "            lst_text = [word for word in lst_text if word not in lst_stopwords]\n",
    "\n",
    "        ## Stemming (remove -ing, -ly, ...)\n",
    "        if flg_stemm == True:\n",
    "            ps = nltk.stem.porter.PorterStemmer()\n",
    "            lst_text = [ps.stem(word) for word in lst_text]\n",
    "\n",
    "        ## Lemmatisation (convert the word into root word)\n",
    "        if flg_lemm == True:\n",
    "            lem = nltk.stem.wordnet.WordNetLemmatizer()\n",
    "            lst_text = [lem.lemmatize(word) for word in lst_text]\n",
    "\n",
    "        ## back to string from list\n",
    "        text = \" \".join(lst_text)\n",
    "        \n",
    "        return text\n",
    "    \n",
    "\n",
    "new_instance = DataPreparation()\n",
    "corpus = new_instance.ReadCSV()\n",
    "lst_stopwords = nltk.corpus.stopwords.words(\"english\")\n",
    "corpus[\"text_clean\"] = corpus[\"text\"].apply(lambda x: new_instance.UtilsPreprocessText(x, flg_stemm=False, \n",
    "                                                  flg_lemm=True,lst_stopwords=lst_stopwords))"
   ]
  },
  {
   "cell_type": "markdown",
   "id": "listed-easter",
   "metadata": {},
   "source": [
    "# Create target clusters"
   ]
  },
  {
   "cell_type": "code",
   "execution_count": null,
   "id": "fatty-audio",
   "metadata": {},
   "outputs": [
    {
     "name": "stdout",
     "output_type": "stream",
     "text": [
      "[==================================================] 100.0% 376.1/376.1MB downloaded\n"
     ]
    }
   ],
   "source": [
    "class Clustering:\n",
    "    \"\"\"This class defined target clusters. Include one class function GetSimilarWords which return a list of keywords for each input category.\"\"\"\n",
    "    \n",
    "    ## a pretrained NLP model \n",
    "    nlp = gensim_api.load(\"glove-wiki-gigaword-300\")\n",
    "    \n",
    "    ## Define the keyword list for each cluster\n",
    "    general_words = ['climate','risk','carbon','emission','environment','social','governance','dioxide','sustainability',\n",
    "                     'green','economy','energy','efficiency','clean','waste','recuperation','renewable','wind','hydro',\n",
    "                     'solar','global','warming','hydrocarbon','methane','oil','coal','gas','greenhouse','recycling',\n",
    "                     'composting','soil','water','air','pollution','natural','hazard']\n",
    "\n",
    "    physical_words =  ['heat','wave','cold','floods','droughts','wildfires','storms','change','precipitation','pattern',\n",
    "                       'sea','level','rise','coastal','hazard','fluvial']\n",
    "\n",
    "    transition_words = ['paris','agreement','regulatory','kyoto','protocol','environmental','protection','agency'] \n",
    "\n",
    "\n",
    "    def GetSimilarWords(self, lst_words, top, nlp):\n",
    "        \"\"\"\n",
    "        This function is used to create a list of keywords for each category. \n",
    "        Parameters: lst_words, top_n most similar words, nlp model. \n",
    "        Return: a list form of top n keywords for a given list of words. \n",
    "        \"\"\"\n",
    "        lst_out = lst_words\n",
    "        for tupla in nlp.most_similar(lst_words, topn=top):\n",
    "            lst_out.append(tupla[0])\n",
    "        return list(set(lst_out))\n",
    "\n",
    "    \n",
    "cluster_instance = Clustering()\n",
    "## create dictionary of this form: {category: [keywords]}\n",
    "dic_clusters = {}\n",
    "dic_clusters[\"GENERAL\"] = cluster_instance.GetSimilarWords(cluster_instance.general_words, top=NUM_OF_TOP_N, nlp=cluster_instance.nlp)\n",
    "dic_clusters[\"PHYSICAL\"] = cluster_instance.GetSimilarWords(cluster_instance.physical_words, top=NUM_OF_TOP_N, nlp=cluster_instance.nlp)\n",
    "dic_clusters[\"TRANSITION\"] = cluster_instance.GetSimilarWords(cluster_instance.transition_words, top=NUM_OF_TOP_N, nlp=cluster_instance.nlp)\n",
    "\n",
    "## print some\n",
    "for k,v in dic_clusters.items():\n",
    "    print(k, \": \", v[0:5], \"...\", len(v))"
   ]
  },
  {
   "cell_type": "markdown",
   "id": "demographic-module",
   "metadata": {},
   "source": [
    "# Visualization"
   ]
  },
  {
   "cell_type": "code",
   "execution_count": 9,
   "id": "proprietary-cartridge",
   "metadata": {},
   "outputs": [
    {
     "data": {
      "image/png": "[encoded data removed]",
      "text/plain": [
       "<Figure size 1080x1080 with 1 Axes>"
      ]
     },
     "metadata": {},
     "output_type": "display_data"
    }
   ],
   "source": [
    "\"\"\"This part is to create a visualization of keywords by applying a dimensionality reduction \n",
    "algorithm (TSNE), and the more separated of each cluster, the better the result.\"\"\"\n",
    "\n",
    "nlp = cluster_instance.nlp\n",
    "\n",
    "## word embedding\n",
    "tot_words = [word for v in dic_clusters.values() for word in v]\n",
    "X = nlp[tot_words]\n",
    "        \n",
    "## pca\n",
    "pca = manifold.TSNE(perplexity=40, n_components=2, init='pca')\n",
    "X = pca.fit_transform(X)\n",
    "\n",
    "## create dtf\n",
    "dtf = pd.DataFrame()\n",
    "for k,v in dic_clusters.items():\n",
    "    size = len(dtf) + len(v)\n",
    "    dtf_group = pd.DataFrame(X[len(dtf):size], columns=[\"x\",\"y\"], index=v)\n",
    "    dtf_group[\"cluster\"] = k\n",
    "    dtf = dtf.append(dtf_group)\n",
    "        \n",
    "## plot\n",
    "fig,ax = plt.subplots()\n",
    "fig.set_figheight(15)\n",
    "fig.set_figwidth(15)\n",
    "sns.scatterplot(data=dtf, x=\"x\", y=\"y\", hue=\"cluster\", ax=ax)\n",
    "ax.legend()\n",
    "ax.set(xlabel=None, ylabel=None, xticks=[], xticklabels=[], yticks=[], yticklabels=[])\n",
    "for i in range(len(dtf)):\n",
    "    ax.annotate(dtf.index[i], xy=(dtf[\"x\"].iloc[i], dtf[\"y\"].iloc[i]), xytext=(5,2), textcoords='offset points',\n",
    "                ha='right', va='bottom')"
   ]
  },
  {
   "cell_type": "markdown",
   "id": "better-kentucky",
   "metadata": {},
   "source": [
    "# Feature engineering"
   ]
  },
  {
   "cell_type": "code",
   "execution_count": null,
   "id": "infinite-likelihood",
   "metadata": {},
   "outputs": [],
   "source": [
    "class Embedding:\n",
    "    \"\"\" This class defines feature engineering part, which in our case, is embedding the \n",
    "    corpus that has been preprocessed and the target clusters created in the same vector space.\"\"\"\n",
    "    \n",
    "    tokenizer = transformers.BertTokenizer.from_pretrained('bert-base-uncased', do_lower_case=True)\n",
    "    nlp = transformers.TFBertModel.from_pretrained('bert-base-uncased')\n",
    "    \n",
    "    def UtilsBertEmbedding(self, txt, tokenizer, nlp):\n",
    "        \"\"\"\n",
    "        Embedding function\n",
    "        \n",
    "        Parameters: txt, tokenizer, nlp model\n",
    "        Return: embedding vector\n",
    "        \"\"\"\n",
    "        idx = tokenizer.encode(txt)\n",
    "        idx = np.array(idx)[None,:]  \n",
    "        embedding = nlp(idx)\n",
    "        X = np.array(embedding[0][0][1:-1])\n",
    "        return X\n",
    "\n",
    "    \n",
    "# create embedding for each documents    \n",
    "embedding_instance = Embedding()\n",
    "lst_mean_vecs = []\n",
    "for i in range(len(corpus)):\n",
    "    words = corpus['text_clean'].iloc[i].split(' ')\n",
    "\n",
    "    mean_vecs = []\n",
    "    for j in range(math.floor(len(words)/EMBEDDING_LENGTH)):\n",
    "        txt = ' '.join(words[(EMBEDDING_LENGTH*j):(EMBEDDING_LENGTH*(j+1))])\n",
    "        mean_vecs.append(embedding_instance.UtilsBertEmbedding(txt, embedding_instance.tokenizer, \n",
    "                                                               embedding_instance.nlp).mean(0))\n",
    "        print(i, j)\n",
    "    \n",
    "    np.save('document_' + str(i) + '.npy', mean_vecs)\n",
    "    lst_mean_vecs.append(mean_vecs)\n",
    "        \n",
    "        \n",
    "X = np.array(lst_mean_vecs, dtype=object)"
   ]
  },
  {
   "cell_type": "code",
   "execution_count": null,
   "id": "solid-sterling",
   "metadata": {},
   "outputs": [],
   "source": [
    "# create embedding for each cluster. \n",
    "dic_y = {k: embedding_instancce.UtilsBertEmbedding(v, embedding_instance.tokenizer, \n",
    "                                                   embedding_instance.nlp).mean(0) for k,v in dic_clusters.items()}\n"
   ]
  },
  {
   "cell_type": "code",
   "execution_count": null,
   "id": "mysterious-context",
   "metadata": {},
   "outputs": [],
   "source": []
  },
  {
   "cell_type": "markdown",
   "id": "invalid-programming",
   "metadata": {},
   "source": [
    "<h2>Note 1: Another way of embedding: sliding window method"
   ]
  },
  {
   "cell_type": "code",
   "execution_count": null,
   "id": "compound-taylor",
   "metadata": {},
   "outputs": [],
   "source": [
    "def utils_bert_embedding(txt, tokenizer, nlp):\n",
    "    \"\"\"This is another possible way of embedding. Since we did not use it to generate output at last, \n",
    "    this method is only included as an extra function. \n",
    "    \n",
    "    Parameters: a piece of text, tokenizer, a nlp model \n",
    "    Return: embedding of input text. \n",
    "    \"\"\"\n",
    "    idx = tokenizer.encode(txt, stride = 10, return_overflowing_tokens=True, max_length = 500)[:-1]\n",
    "                            # stride and max_length can be tuned. \n",
    "    idx = np.array(idx, dtype=np.int64)\n",
    "    embedding = nlp(idx)\n",
    "\n",
    "    X = np.array(embedding[0][0][1:-1])\n",
    "    for i in range(1, len(embedding[0])):\n",
    "        X = np.concatenate((X, np.array(embedding[0][i][1:-1])), axis=0)\n",
    "    return X\n",
    "\n",
    "## apply this embedding method to our corpus (skipped in our final output)\n",
    "## create list of news vector\n",
    "# lst_mean_vecs = [utils_bert_embedding(txt, tokenizer, nlp).mean(0) for txt in corpus[\"text_clean\"]]\n",
    "text_clean = corpus[\"text_clean\"].reset_index(drop=True).copy()[0:50] #run for a small sample\n",
    "lst_mean_vecs = []\n",
    "for i in range(len(corpus[\"text_clean\"])):\n",
    "    txt = text_clean.iloc[i]\n",
    "    try:\n",
    "        item = utils_bert_embedding(txt, tokenizer, nlp).mean(0)\n",
    "        lst_mean_vecs.append(item)\n",
    "        print(i)\n",
    "    except:\n",
    "        lst_mean_vecs.append(np.zeros(item.shape))\n",
    "        print('error',i)\n",
    "        \n",
    "        "
   ]
  },
  {
   "cell_type": "markdown",
   "id": "progressive-romania",
   "metadata": {},
   "source": [
    "<h2>Note 2: If re-run from embeddings directly"
   ]
  },
  {
   "cell_type": "code",
   "execution_count": 26,
   "id": "personal-tiger",
   "metadata": {},
   "outputs": [],
   "source": [
    "\"\"\"This block of code is for loading the saved local embeddings, shouldn't be necessary in most cases.\"\"\"\n",
    "# lst_mean_vecs = []\n",
    "# for i in range(700, 750):\n",
    "#     mean_vecs = np.load('document_' + str(i) + '.npy')   \n",
    "#     if mean_vecs.size == 0:\n",
    "#         print(i)\n",
    "#     lst_mean_vecs.append(mean_vecs)\n",
    "# X = np.array(lst_mean_vecs, dtype=object)"
   ]
  },
  {
   "cell_type": "markdown",
   "id": "filled-bermuda",
   "metadata": {},
   "source": [
    "<h2>Note 3: If stick with our current embedding method (i.e., cut each document by a fixed length and do embedding), we\n",
    "    could also change parameter--- the length to cut. "
   ]
  },
  {
   "cell_type": "code",
   "execution_count": 7,
   "id": "committed-feelings",
   "metadata": {
    "scrolled": true
   },
   "outputs": [],
   "source": [
    "\"\"\"This block of code is for change length of cut to 50, we ran only first \n",
    "50 documents for this part, output also included. \n",
    "\"\"\"\n",
    "\n",
    "# lst_mean_vecs = []\n",
    "# #for i in range(len(corpus)):\n",
    "# for i in range(50):\n",
    "#     words = corpus['text_clean'].iloc[i].split(' ')\n",
    "\n",
    "#     mean_vecs = []\n",
    "#     for j in range(math.floor(len(words)/50)):\n",
    "#         txt = ' '.join(words[(50*j):(50*(j+1))])    \n",
    "#         mean_vecs.append(utils_bert_embedding(txt, tokenizer, nlp).mean(0))\n",
    "#         print(i, j)\n",
    "    \n",
    "#     np.save('document_' + str(i) + '(50).npy', mean_vecs)\n",
    "#     lst_mean_vecs.append(mean_vecs)\n",
    "        \n",
    "# X = np.array(lst_mean_vecs, dtype=object)"
   ]
  },
  {
   "cell_type": "code",
   "execution_count": null,
   "id": "dedicated-advice",
   "metadata": {},
   "outputs": [],
   "source": []
  },
  {
   "cell_type": "markdown",
   "id": "short-bookmark",
   "metadata": {},
   "source": [
    "# Model design"
   ]
  },
  {
   "cell_type": "code",
   "execution_count": 39,
   "id": "boolean-geology",
   "metadata": {},
   "outputs": [],
   "source": [
    "class Model:\n",
    "    \"\"\"\n",
    "    This class defines the model algorithm\"\"\"\n",
    "    \n",
    "    def ModelDesign(self, X, dic_y):\n",
    "        \"\"\"\n",
    "        This function defines the whole model, which uses cosine similarity calculation first, \n",
    "        and then classify each document according to the highest similarity score. \n",
    "        \n",
    "        Parameters:\n",
    "        X: embedding vector of each documents. \n",
    "        dic_y: embedding vector of keywords. \n",
    "        \n",
    "        Return:\n",
    "        ratio, a list stores ratio of each group. \n",
    "        \"\"\"\n",
    "        ratios = []\n",
    "        ## compute cosine similarities\n",
    "        for mean_vec in X:\n",
    "            if len(mean_vec) == 0:\n",
    "                continue\n",
    "\n",
    "            similarities = np.array([metrics.pairwise.cosine_similarity(mean_vec, y.reshape(1,RESHAPE_DIM)).T.tolist()[0] \n",
    "                                     for y in dic_y.values()]).T\n",
    "\n",
    "            ## adjust and rescale\n",
    "            labels = list(dic_y.keys())\n",
    "\n",
    "            for i in range(len(similarities)):        \n",
    "                ### assign randomly if there is no similarity\n",
    "                if sum(similarities[i]) == 0:\n",
    "                    similarities[i] = [0]*len(labels)\n",
    "                    similarities[i][np.random.choice(range(len(labels)))] = 1\n",
    "\n",
    "                ### rescale so they sum = 1\n",
    "                similarities[i] = similarities[i] / sum(similarities[i])\n",
    "\n",
    "            ## classify the label with highest similarity score\n",
    "            predicted_prob = similarities\n",
    "            predicted = [labels[np.argmax(pred)] for pred in predicted_prob]\n",
    "\n",
    "            ratios.append(np.array([predicted.count('GENERAL')/len(predicted), predicted.count('PHYSICAL')/len(predicted),\n",
    "                                    predicted.count('TRANSITION')/len(predicted)]))\n",
    "            \n",
    "            return ratios\n",
    "        \n",
    "model = Model()\n",
    "ratios = model.ModelDesign(X, dic_y)"
   ]
  },
  {
   "cell_type": "markdown",
   "id": "accredited-jenny",
   "metadata": {},
   "source": [
    "<h2>Note 4: Selection of similarity calculations"
   ]
  },
  {
   "cell_type": "code",
   "execution_count": null,
   "id": "environmental-synthetic",
   "metadata": {},
   "outputs": [],
   "source": [
    "\"\"\"There are also some other similarity calculation methods, we used cosine similarity, \n",
    "a more general function included below.\"\"\"\n",
    "\n",
    "def similarity_classify(X, dic_y, method):\n",
    "    \"\"\"Similarity function:\n",
    "    \n",
    "    Parameters: \n",
    "    embedding of documents X,\n",
    "    embedding of keywords dic_y, \n",
    "    method selected from cosine similarity, pairwise distance, euclidean distance. \n",
    "    \n",
    "    Return: \n",
    "    Predicted probability with predicted class of each document. \n",
    "    \"\"\"\n",
    "    if method == 'cosine_similarity':\n",
    "        similarities = np.array([metrics.pairwise.cosine_similarity(X, y.reshape(1,RESHAPE_DIM)).T.tolist()[0] for y in dic_y.values()]).T\n",
    "    elif method == 'pairwise_distances':\n",
    "        similarities = np.array([metrics.pairwise.pairwise_distances(X, y.reshape(1,RESHAPE_DIM)).T.tolist()[0] for y in dic_y.values()]).T\n",
    "    elif method == 'euclidean_distances':\n",
    "        similarities = np.array([metrics.pairwise.euclidean_distances(X, y.reshape(1,RESHAPE_DIM)).T.tolist()[0] for y in dic_y.values()]).T\n",
    "\n",
    "    ## adjust and rescale\n",
    "    labels = list(dic_y.keys())\n",
    "    for i in range(len(similarities)):\n",
    "        ### assign randomly if there is no similarity\n",
    "        if sum(similarities[i]) == 0:\n",
    "            similarities[i] = [0]*len(labels)\n",
    "            similarities[i][np.random.choice(range(len(labels)))] = 1\n",
    "        ### rescale so they sum = 1\n",
    "        similarities[i] = similarities[i] / sum(similarities[i])\n",
    "\n",
    "    ## classify the label with highest similarity score\n",
    "    predicted_prob = similarities\n",
    "    predicted = [labels[np.argmax(pred)] for pred in predicted_prob]\n",
    "    return predicted_prob, predicted"
   ]
  },
  {
   "cell_type": "markdown",
   "id": "useful-terror",
   "metadata": {},
   "source": [
    "<h2>Continue with our previous model..."
   ]
  },
  {
   "cell_type": "code",
   "execution_count": 40,
   "id": "vocal-hanging",
   "metadata": {},
   "outputs": [],
   "source": [
    "pd.DataFrame(ratios).to_csv('ratios_1420.csv')"
   ]
  },
  {
   "cell_type": "code",
   "execution_count": 21,
   "id": "upset-printer",
   "metadata": {},
   "outputs": [
    {
     "data": {
      "text/html": [
       "<div>\n",
       "<style scoped>\n",
       "    .dataframe tbody tr th:only-of-type {\n",
       "        vertical-align: middle;\n",
       "    }\n",
       "\n",
       "    .dataframe tbody tr th {\n",
       "        vertical-align: top;\n",
       "    }\n",
       "\n",
       "    .dataframe thead th {\n",
       "        text-align: right;\n",
       "    }\n",
       "</style>\n",
       "<table border=\"1\" class=\"dataframe\">\n",
       "  <thead>\n",
       "    <tr style=\"text-align: right;\">\n",
       "      <th></th>\n",
       "      <th>General Risk</th>\n",
       "      <th>Physical Risk</th>\n",
       "      <th>Transition Risk</th>\n",
       "    </tr>\n",
       "  </thead>\n",
       "  <tbody>\n",
       "    <tr>\n",
       "      <th>0</th>\n",
       "      <td>0.036952</td>\n",
       "      <td>0.161663</td>\n",
       "      <td>0.801386</td>\n",
       "    </tr>\n",
       "    <tr>\n",
       "      <th>1</th>\n",
       "      <td>0.037736</td>\n",
       "      <td>0.216981</td>\n",
       "      <td>0.745283</td>\n",
       "    </tr>\n",
       "    <tr>\n",
       "      <th>2</th>\n",
       "      <td>0.057971</td>\n",
       "      <td>0.463768</td>\n",
       "      <td>0.478261</td>\n",
       "    </tr>\n",
       "    <tr>\n",
       "      <th>3</th>\n",
       "      <td>0.061376</td>\n",
       "      <td>0.060964</td>\n",
       "      <td>0.877660</td>\n",
       "    </tr>\n",
       "    <tr>\n",
       "      <th>4</th>\n",
       "      <td>0.071429</td>\n",
       "      <td>0.214286</td>\n",
       "      <td>0.714286</td>\n",
       "    </tr>\n",
       "    <tr>\n",
       "      <th>...</th>\n",
       "      <td>...</td>\n",
       "      <td>...</td>\n",
       "      <td>...</td>\n",
       "    </tr>\n",
       "    <tr>\n",
       "      <th>15</th>\n",
       "      <td>0.025000</td>\n",
       "      <td>0.150000</td>\n",
       "      <td>0.825000</td>\n",
       "    </tr>\n",
       "    <tr>\n",
       "      <th>16</th>\n",
       "      <td>0.278378</td>\n",
       "      <td>0.041892</td>\n",
       "      <td>0.679730</td>\n",
       "    </tr>\n",
       "    <tr>\n",
       "      <th>17</th>\n",
       "      <td>0.000000</td>\n",
       "      <td>0.057143</td>\n",
       "      <td>0.942857</td>\n",
       "    </tr>\n",
       "    <tr>\n",
       "      <th>18</th>\n",
       "      <td>0.142857</td>\n",
       "      <td>0.102041</td>\n",
       "      <td>0.755102</td>\n",
       "    </tr>\n",
       "    <tr>\n",
       "      <th>19</th>\n",
       "      <td>0.104396</td>\n",
       "      <td>0.068681</td>\n",
       "      <td>0.826923</td>\n",
       "    </tr>\n",
       "  </tbody>\n",
       "</table>\n",
       "<p>1413 rows × 3 columns</p>\n",
       "</div>"
      ],
      "text/plain": [
       "    General Risk  Physical Risk  Transition Risk\n",
       "0       0.036952       0.161663         0.801386\n",
       "1       0.037736       0.216981         0.745283\n",
       "2       0.057971       0.463768         0.478261\n",
       "3       0.061376       0.060964         0.877660\n",
       "4       0.071429       0.214286         0.714286\n",
       "..           ...            ...              ...\n",
       "15      0.025000       0.150000         0.825000\n",
       "16      0.278378       0.041892         0.679730\n",
       "17      0.000000       0.057143         0.942857\n",
       "18      0.142857       0.102041         0.755102\n",
       "19      0.104396       0.068681         0.826923\n",
       "\n",
       "[1413 rows x 3 columns]"
      ]
     },
     "execution_count": 21,
     "metadata": {},
     "output_type": "execute_result"
    }
   ],
   "source": [
    "total_ratios = pd.DataFrame()\n",
    "for i in range(1, BATCH):   \n",
    "    ratios = pd.read_csv('Report_ratios/ratios_' + str(BATCH_SIZE*i) + '.csv', index_col = 0)\n",
    "    total_ratios = pd.concat([total_ratios, ratios])\n",
    "    \n",
    "ratios = pd.read_csv('Report_ratios/ratios_1420.csv', index_col = 0)\n",
    "total_ratios = pd.concat([total_ratios, ratios])\n",
    "\n",
    "total_ratios.rename(columns = {'0':'General Risk', '1':'Physical Risk', '2':'Transition Risk'})"
   ]
  },
  {
   "cell_type": "code",
   "execution_count": 25,
   "id": "improved-lucas",
   "metadata": {},
   "outputs": [
    {
     "data": {
      "text/plain": [
       "array([0.05166313, 0.08280255, 0.86553432])"
      ]
     },
     "execution_count": 25,
     "metadata": {},
     "output_type": "execute_result"
    }
   ],
   "source": [
    "labels = list(['GENERAL', 'PHYSICAL', 'TRANSITION'])\n",
    "pred = [labels[np.argmax(total_ratios.iloc[i])] for i in range(len(total_ratios))]\n",
    "np.array([pred.count('GENERAL')/len(pred), pred.count('PHYSICAL')/len(pred),\n",
    "          pred.count('TRANSITION')/len(pred)])"
   ]
  },
  {
   "cell_type": "code",
   "execution_count": null,
   "id": "natural-uncle",
   "metadata": {},
   "outputs": [],
   "source": []
  }
 ],
 "metadata": {
  "kernelspec": {
   "display_name": "Python 3",
   "language": "python",
   "name": "python3"
  },
  "language_info": {
   "codemirror_mode": {
    "name": "ipython",
    "version": 3
   },
   "file_extension": ".py",
   "mimetype": "text/x-python",
   "name": "python",
   "nbconvert_exporter": "python",
   "pygments_lexer": "ipython3",
   "version": "3.7.6"
  }
 },
 "nbformat": 4,
 "nbformat_minor": 5
}
